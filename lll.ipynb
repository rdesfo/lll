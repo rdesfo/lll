{
 "cells": [
  {
   "cell_type": "code",
   "execution_count": 133,
   "id": "b930f635",
   "metadata": {},
   "outputs": [],
   "source": [
    "import pandas as pd"
   ]
  },
  {
   "cell_type": "code",
   "execution_count": 134,
   "id": "a33bcc00",
   "metadata": {},
   "outputs": [],
   "source": [
    "lll_df  = pd.read_csv(\"lll_certs.csv\")"
   ]
  },
  {
   "cell_type": "code",
   "execution_count": 135,
   "id": "e93ad951",
   "metadata": {},
   "outputs": [
    {
     "data": {
      "text/html": [
       "<div>\n",
       "<style scoped>\n",
       "    .dataframe tbody tr th:only-of-type {\n",
       "        vertical-align: middle;\n",
       "    }\n",
       "\n",
       "    .dataframe tbody tr th {\n",
       "        vertical-align: top;\n",
       "    }\n",
       "\n",
       "    .dataframe thead th {\n",
       "        text-align: right;\n",
       "    }\n",
       "</style>\n",
       "<table border=\"1\" class=\"dataframe\">\n",
       "  <thead>\n",
       "    <tr style=\"text-align: right;\">\n",
       "      <th></th>\n",
       "      <th>Name</th>\n",
       "      <th>Link</th>\n",
       "      <th>date</th>\n",
       "      <th>time</th>\n",
       "      <th>platform</th>\n",
       "      <th>type</th>\n",
       "      <th>comments</th>\n",
       "    </tr>\n",
       "  </thead>\n",
       "  <tbody>\n",
       "    <tr>\n",
       "      <th>0</th>\n",
       "      <td>Data Literacy certificate</td>\n",
       "      <td>https://www.datacamp.com/skill-verification/DL...</td>\n",
       "      <td>11-Oct-24</td>\n",
       "      <td>NaN</td>\n",
       "      <td>datacamp</td>\n",
       "      <td>exam</td>\n",
       "      <td>NaN</td>\n",
       "    </tr>\n",
       "    <tr>\n",
       "      <th>1</th>\n",
       "      <td>Introduction to SQL</td>\n",
       "      <td>https://www.datacamp.com/completed/statement-o...</td>\n",
       "      <td>NaN</td>\n",
       "      <td>2 hours</td>\n",
       "      <td>datacamp</td>\n",
       "      <td>course</td>\n",
       "      <td>NaN</td>\n",
       "    </tr>\n",
       "    <tr>\n",
       "      <th>2</th>\n",
       "      <td>Introduction to Python</td>\n",
       "      <td>https://www.datacamp.com/completed/statement-o...</td>\n",
       "      <td>NaN</td>\n",
       "      <td>4 hours</td>\n",
       "      <td>datacamp</td>\n",
       "      <td>course</td>\n",
       "      <td>NaN</td>\n",
       "    </tr>\n",
       "    <tr>\n",
       "      <th>3</th>\n",
       "      <td>Intermediate Python</td>\n",
       "      <td>https://www.datacamp.com/completed/statement-o...</td>\n",
       "      <td>NaN</td>\n",
       "      <td>4 hours</td>\n",
       "      <td>datacamp</td>\n",
       "      <td>course</td>\n",
       "      <td>NaN</td>\n",
       "    </tr>\n",
       "    <tr>\n",
       "      <th>4</th>\n",
       "      <td>Introduction to R</td>\n",
       "      <td>https://www.datacamp.com/completed/statement-o...</td>\n",
       "      <td>NaN</td>\n",
       "      <td>4 hours</td>\n",
       "      <td>datacamp</td>\n",
       "      <td>course</td>\n",
       "      <td>NaN</td>\n",
       "    </tr>\n",
       "  </tbody>\n",
       "</table>\n",
       "</div>"
      ],
      "text/plain": [
       "                        Name  \\\n",
       "0  Data Literacy certificate   \n",
       "1        Introduction to SQL   \n",
       "2     Introduction to Python   \n",
       "3        Intermediate Python   \n",
       "4          Introduction to R   \n",
       "\n",
       "                                                Link       date     time  \\\n",
       "0  https://www.datacamp.com/skill-verification/DL...  11-Oct-24      NaN   \n",
       "1  https://www.datacamp.com/completed/statement-o...        NaN  2 hours   \n",
       "2  https://www.datacamp.com/completed/statement-o...        NaN  4 hours   \n",
       "3  https://www.datacamp.com/completed/statement-o...        NaN  4 hours   \n",
       "4  https://www.datacamp.com/completed/statement-o...        NaN  4 hours   \n",
       "\n",
       "   platform    type comments  \n",
       "0  datacamp    exam      NaN  \n",
       "1  datacamp  course      NaN  \n",
       "2  datacamp  course      NaN  \n",
       "3  datacamp  course      NaN  \n",
       "4  datacamp  course      NaN  "
      ]
     },
     "execution_count": 135,
     "metadata": {},
     "output_type": "execute_result"
    }
   ],
   "source": [
    "lll_df.head()"
   ]
  },
  {
   "cell_type": "code",
   "execution_count": 136,
   "id": "51f64032",
   "metadata": {
    "scrolled": true
   },
   "outputs": [
    {
     "name": "stdout",
     "output_type": "stream",
     "text": [
      "<class 'pandas.core.frame.DataFrame'>\n",
      "RangeIndex: 81 entries, 0 to 80\n",
      "Data columns (total 7 columns):\n",
      " #   Column    Non-Null Count  Dtype \n",
      "---  ------    --------------  ----- \n",
      " 0   Name      81 non-null     object\n",
      " 1   Link      81 non-null     object\n",
      " 2   date      37 non-null     object\n",
      " 3   time      79 non-null     object\n",
      " 4   platform  81 non-null     object\n",
      " 5   type      81 non-null     object\n",
      " 6   comments  8 non-null      object\n",
      "dtypes: object(7)\n",
      "memory usage: 4.6+ KB\n"
     ]
    }
   ],
   "source": [
    "lll_df.info()"
   ]
  },
  {
   "cell_type": "code",
   "execution_count": 137,
   "id": "fb0974bc",
   "metadata": {},
   "outputs": [],
   "source": [
    "# time and date need there dtype to be adjusted\n",
    "lll_df[\"date\"] = lll_df[\"date\"].apply(pd.to_datetime)\n",
    "\n",
    "# the time column has some NaN values that we need to work around\n",
    "time_index = lll_df.time.notnull()\n",
    "lll_df.loc[time_index, \"time\"] = lll_df.loc[time_index, \"time\"].str.replace(\" hours\", \"\").astype(int)"
   ]
  },
  {
   "cell_type": "markdown",
   "id": "1c8858de",
   "metadata": {},
   "source": [
    "### Missing Dates\n",
    "Unfortunately, not all the course completion certificates had dates on them.  I may have be able to look them up at a later date in my email.\n",
    "\n",
    "### Missing Time\n",
    "The IBM Capstone course didn't provide "
   ]
  },
  {
   "cell_type": "markdown",
   "id": "2dc84ebd",
   "metadata": {},
   "source": [
    "What platforms have I worked on?"
   ]
  },
  {
   "cell_type": "code",
   "execution_count": 146,
   "id": "bac6f63f",
   "metadata": {},
   "outputs": [
    {
     "data": {
      "text/plain": [
       "platform\n",
       "datacamp    46\n",
       "coursera    35\n",
       "Name: count, dtype: int64"
      ]
     },
     "execution_count": 146,
     "metadata": {},
     "output_type": "execute_result"
    }
   ],
   "source": [
    "platform_counts = lll_df.platform.value_counts()\n",
    "platform_counts"
   ]
  },
  {
   "cell_type": "code",
   "execution_count": 150,
   "id": "a374a17c",
   "metadata": {},
   "outputs": [
    {
     "data": {
      "text/plain": [
       "[Text(0, 0, '46'), Text(0, 0, '35')]"
      ]
     },
     "execution_count": 150,
     "metadata": {},
     "output_type": "execute_result"
    },
    {
     "data": {
      "image/png": "[encoded data removed]",
      "text/plain": [
       "<Figure size 432x288 with 1 Axes>"
      ]
     },
     "metadata": {
      "needs_background": "light"
     },
     "output_type": "display_data"
    }
   ],
   "source": [
    "#visualize (https://matplotlib.org/3.4.0/users/whats_new.html#new-automatic-labeling-for-bar-charts)\n",
    "ax = platform_counts.plot(kind=\"bar\", title=\"Courses Completed By Platform\")\n",
    "ax.bar_label(ax.containers[0])"
   ]
  },
  {
   "cell_type": "markdown",
   "id": "5c34eeea",
   "metadata": {},
   "source": [
    "What about time on each platform?\n",
    "Since Datacamp's tracks and Coursera's specializations time esimates are sums of the courses, they need to be filtered so that hours don't get counted twice. "
   ]
  },
  {
   "cell_type": "code",
   "execution_count": 140,
   "id": "32215972",
   "metadata": {},
   "outputs": [
    {
     "name": "stderr",
     "output_type": "stream",
     "text": [
      "/tmp/ipykernel_165135/3894101412.py:2: UserWarning: Boolean Series key will be reindexed to match DataFrame index.\n",
      "  courses_df[time_index].groupby(\"platform\")[\"time\"].sum()\n"
     ]
    },
    {
     "data": {
      "text/plain": [
       "platform\n",
       "coursera    409\n",
       "datacamp    162\n",
       "Name: time, dtype: object"
      ]
     },
     "execution_count": 140,
     "metadata": {},
     "output_type": "execute_result"
    }
   ],
   "source": [
    "courses_df = lll_df[lll_df[\"type\"] == \"course\"]\n",
    "courses_df[time_index].groupby(\"platform\")[\"time\"].sum()"
   ]
  },
  {
   "cell_type": "markdown",
   "id": "889b7e3f",
   "metadata": {},
   "source": [
    "### Time Series"
   ]
  },
  {
   "cell_type": "code",
   "execution_count": 141,
   "id": "0c5bb5cd",
   "metadata": {},
   "outputs": [
    {
     "data": {
      "text/plain": [
       "(Timestamp('2022-04-12 00:00:00'), Timestamp('2025-01-25 00:00:00'))"
      ]
     },
     "execution_count": 141,
     "metadata": {},
     "output_type": "execute_result"
    }
   ],
   "source": [
    "lll_range = (lll_df['date'].min(), lll_df['date'].max())\n",
    "lll_range"
   ]
  },
  {
   "cell_type": "code",
   "execution_count": 153,
   "id": "78a5fffc",
   "metadata": {},
   "outputs": [
    {
     "data": {
      "text/plain": [
       "<Axes: title={'center': 'Courses Complete by Month'}, ylabel='Frequency'>"
      ]
     },
     "execution_count": 153,
     "metadata": {},
     "output_type": "execute_result"
    },
    {
     "data": {
      "image/png": "[encoded data removed]",
      "text/plain": [
       "<Figure size 432x288 with 1 Axes>"
      ]
     },
     "metadata": {
      "needs_background": "light"
     },
     "output_type": "display_data"
    }
   ],
   "source": [
    "# I seem to complete the most courses in December with a dip in the end of summer\n",
    "lll_df['date'].dt.month.plot(kind=\"hist\", title=\"Courses Complete by Month\")"
   ]
  },
  {
   "cell_type": "code",
   "execution_count": null,
   "id": "c5b867d1",
   "metadata": {},
   "outputs": [],
   "source": []
  }
 ],
 "metadata": {
  "kernelspec": {
   "display_name": "Python 3 (ipykernel)",
   "language": "/gnu/store/ysvfmjkj0smxlhnmag3pav5abinh43vl-python-3.10.7/bin/python3",
   "name": "python3"
  },
  "language_info": {
   "codemirror_mode": {
    "name": "ipython",
    "version": 3
   },
   "file_extension": ".py",
   "mimetype": "text/x-python",
   "name": "python",
   "nbconvert_exporter": "python",
   "pygments_lexer": "ipython3",
   "version": "3.10.7"
  }
 },
 "nbformat": 4,
 "nbformat_minor": 5
}
